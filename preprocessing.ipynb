{
 "cells": [
  {
   "cell_type": "code",
   "execution_count": 1,
   "metadata": {
    "collapsed": true,
    "deletable": true,
    "editable": true
   },
   "outputs": [],
   "source": [
    "import h5py"
   ]
  },
  {
   "cell_type": "code",
   "execution_count": 2,
   "metadata": {
    "collapsed": true,
    "deletable": true,
    "editable": true
   },
   "outputs": [],
   "source": [
    "import matplotlib.pyplot as plt\n",
    "\n",
    "% matplotlib inline"
   ]
  },
  {
   "cell_type": "code",
   "execution_count": 4,
   "metadata": {
    "collapsed": true,
    "deletable": true,
    "editable": true
   },
   "outputs": [],
   "source": [
    "from glob import glob\n",
    "from scipy import misc \n",
    "\n",
    "def load_data():\n",
    "    return [ misc.imread(i) for i in glob(\"./svhn/train/*.png\") ]"
   ]
  },
  {
   "cell_type": "code",
   "execution_count": 6,
   "metadata": {
    "collapsed": true,
    "deletable": true,
    "editable": true
   },
   "outputs": [],
   "source": [
    "images = load_data()"
   ]
  },
  {
   "cell_type": "code",
   "execution_count": 3,
   "metadata": {
    "collapsed": true,
    "deletable": true,
    "editable": true
   },
   "outputs": [],
   "source": [
    "import operator\n",
    "\n",
    "import PIL.Image\n",
    "import PIL.ImageDraw\n",
    "import os"
   ]
  },
  {
   "cell_type": "code",
   "execution_count": 4,
   "metadata": {
    "collapsed": true,
    "deletable": true,
    "editable": true
   },
   "outputs": [],
   "source": [
    "import numpy as np"
   ]
  },
  {
   "cell_type": "code",
   "execution_count": 83,
   "metadata": {
    "collapsed": true,
    "deletable": true,
    "editable": true
   },
   "outputs": [],
   "source": [
    "index = 15720"
   ]
  },
  {
   "cell_type": "code",
   "execution_count": 5,
   "metadata": {
    "collapsed": true,
    "deletable": true,
    "editable": true
   },
   "outputs": [],
   "source": [
    "class MatReader:\n",
    "    def __init__(self, filepath):\n",
    "        self.f = h5py.File(filepath)\n",
    "\n",
    "    def get_name(self, index):\n",
    "        f = self.f\n",
    "        ref = f.get(\"/digitStruct/name\").value[index][0]\n",
    "        filename = \"\".join( map(chr, map( operator.itemgetter(0), f[ref].value) ) )\n",
    "        return filename\n",
    "        \n",
    "    def get_bbox(self, index):\n",
    "        f = self.f\n",
    "        \n",
    "        ref = f.get(\"/digitStruct/bbox\")\n",
    "        res = f[ ref.value[index][0] ]\n",
    "        \n",
    "        d = {}\n",
    "        \n",
    "        for k,v in dict(res).items():\n",
    "            if v.shape[0] > 1:\n",
    "                values = np.array([ f[item[0]].value[0][0] for item in v ], dtype=np.int)\n",
    "            else:\n",
    "                values = np.array( [ v.value[0][0], ] , dtype=np.int)\n",
    "            #print(\"{} => {}\".format(k, values))\n",
    "            d[k] = values\n",
    "        d[\"label\"] = [ 0 if label == 10 else label for label in d[\"label\"] ]\n",
    "        return d\n",
    "    \n",
    "    def get(self, index):\n",
    "        filename = self.get_name(index)\n",
    "        bbox = self.get_bbox(index)\n",
    "        fullpath = os.path.join(\"./svhn/train\", filename)\n",
    "        \n",
    "        image = PIL.Image.open(fullpath)\n",
    "        \n",
    "        draw = PIL.ImageDraw.Draw(image)\n",
    "\n",
    "        for i in range(len(bbox['label'])):\n",
    "            x0 = bbox['left'][i]\n",
    "            y0 = bbox['top'][i]\n",
    "            x1 = x0 + bbox['width'][i]\n",
    "            y1 = y0 + bbox['height'][i]\n",
    "\n",
    "            draw.rectangle([x0, y0, x1, y1])\n",
    "        \n",
    "        #Image(image)\n",
    "        return image#, bbox\n",
    "    \n",
    "#     def get_cliped_bbox(self, index):\n",
    "#         bbox = self.get_bbox(index)\n",
    "#         width = height = 0\n",
    "#         size= len(bbox['label'])\n",
    "#         x1 = np.min(bbox['left']) #bbox['left'][0] #np.mean( [ left for left in bbox['left'] ] )\n",
    "#         y1 = np.min( bbox['top'] )\n",
    "#         width = (bbox['left'][size-1] + bbox['width'][size-1]) - bbox['left'][0]\n",
    "#         height = np.max( [ left for left in bbox['height'] ] )\n",
    "#         label = \"\".join(list(map(str, map(int, bbox[\"label\"]))))        \n",
    "#         return (left, top, width, height), label\n",
    "\n",
    "    def get_clipped_bbox(self, index):\n",
    "        bbox = self.get_bbox(index)\n",
    "        x1 = bbox['left'].min()\n",
    "        y1 = bbox['top'].min()\n",
    "        x2 = (bbox['left'] + bbox['width']).max()\n",
    "        y2 = (bbox['top'] + bbox['height']).max()\n",
    "        label = \"\".join(list(map(str, map(int, bbox[\"label\"]))))\n",
    "        return (x1, y1), (x2, y2)\n",
    "\n",
    "    \n",
    "    def clip(self, index):\n",
    "        filename = self.get_name(index)\n",
    "        fullpath = os.path.join(\"./svhn/train\", filename)\n",
    "        image = PIL.Image.open(fullpath)\n",
    "        draw = PIL.ImageDraw.Draw(image)\n",
    "        (x0,y0, width, height), label = self.get_cliped_bbox(index)\n",
    "        draw.rectangle([x0, y0, x0 + width, y0 + height])\n",
    "        \n",
    "        #print([x0, y0, x0 + width, y0 + height])\n",
    "        #return image\n",
    "        return image.crop((x0, y0, x0 + width, y0 + height)).resize((32,32)), label\n",
    "    "
   ]
  },
  {
   "cell_type": "code",
   "execution_count": 6,
   "metadata": {
    "collapsed": true,
    "deletable": true,
    "editable": true
   },
   "outputs": [],
   "source": [
    "reader = MatReader(\"./svhn/train/digitStruct.mat\")"
   ]
  },
  {
   "cell_type": "code",
   "execution_count": 7,
   "metadata": {
    "collapsed": false,
    "deletable": true,
    "editable": true
   },
   "outputs": [
    {
     "data": {
      "image/png": "[encoded data removed]",
      "text/plain": [
       "<PIL.PngImagePlugin.PngImageFile image mode=RGB size=57x24 at 0x111DF2320>"
      ]
     },
     "execution_count": 7,
     "metadata": {},
     "output_type": "execute_result"
    }
   ],
   "source": [
    "reader.get(34)"
   ]
  },
  {
   "cell_type": "code",
   "execution_count": 8,
   "metadata": {
    "collapsed": false,
    "deletable": true,
    "editable": true
   },
   "outputs": [
    {
     "data": {
      "image/png": "[encoded data removed]",
      "text/plain": [
       "<PIL.PngImagePlugin.PngImageFile image mode=RGB size=44x23 at 0x111DF23C8>"
      ]
     },
     "execution_count": 8,
     "metadata": {},
     "output_type": "execute_result"
    }
   ],
   "source": [
    "reader.get(4266)"
   ]
  },
  {
   "cell_type": "code",
   "execution_count": 9,
   "metadata": {
    "collapsed": false,
    "deletable": true,
    "editable": true
   },
   "outputs": [
    {
     "name": "stdout",
     "output_type": "stream",
     "text": [
      "45\n"
     ]
    },
    {
     "data": {
      "image/png": "[encoded data removed]",
      "text/plain": [
       "<PIL.Image.Image image mode=RGB size=32x32 at 0x111FDF470>"
      ]
     },
     "execution_count": 9,
     "metadata": {},
     "output_type": "execute_result"
    }
   ],
   "source": [
    "img, label = reader.clip(4266)\n",
    "print(label)\n",
    "img"
   ]
  },
  {
   "cell_type": "code",
   "execution_count": 10,
   "metadata": {
    "collapsed": false,
    "deletable": true,
    "editable": true
   },
   "outputs": [
    {
     "data": {
      "image/png": "[encoded data removed]",
      "text/plain": [
       "<PIL.PngImagePlugin.PngImageFile image mode=RGB size=164x68 at 0x111FC7BE0>"
      ]
     },
     "execution_count": 10,
     "metadata": {},
     "output_type": "execute_result"
    }
   ],
   "source": [
    "reader.get(8132)"
   ]
  },
  {
   "cell_type": "code",
   "execution_count": 23,
   "metadata": {
    "collapsed": false,
    "deletable": true,
    "editable": true
   },
   "outputs": [
    {
     "data": {
      "image/png": "[encoded data removed]",
      "text/plain": [
       "<PIL.PngImagePlugin.PngImageFile image mode=RGB size=181x101 at 0x112001FD0>"
      ]
     },
     "execution_count": 23,
     "metadata": {},
     "output_type": "execute_result"
    }
   ],
   "source": [
    "reader.get(7154)"
   ]
  },
  {
   "cell_type": "code",
   "execution_count": 18,
   "metadata": {
    "collapsed": false,
    "deletable": true,
    "editable": true
   },
   "outputs": [
    {
     "name": "stdout",
     "output_type": "stream",
     "text": [
      "14\n"
     ]
    },
    {
     "data": {
      "image/png": "[encoded data removed]",
      "text/plain": [
       "<PIL.Image.Image image mode=RGB size=32x32 at 0x111FFA9B0>"
      ]
     },
     "execution_count": 18,
     "metadata": {},
     "output_type": "execute_result"
    }
   ],
   "source": [
    "img, label = reader.clip(7154)\n",
    "print(label)\n",
    "img"
   ]
  },
  {
   "cell_type": "code",
   "execution_count": 31,
   "metadata": {
    "collapsed": false
   },
   "outputs": [
    {
     "data": {
      "text/plain": [
       "{'height': [59.0, 59.0],\n",
       " 'label': [1.0, 4.0],\n",
       " 'left': [78.0, 90.0],\n",
       " 'top': [21.0, 14.0],\n",
       " 'width': [9.0, 16.0]}"
      ]
     },
     "execution_count": 31,
     "metadata": {},
     "output_type": "execute_result"
    }
   ],
   "source": [
    "bbox = reader.get_bbox(7154)\n",
    "bbox"
   ]
  },
  {
   "cell_type": "code",
   "execution_count": 40,
   "metadata": {
    "collapsed": false
   },
   "outputs": [
    {
     "data": {
      "text/plain": [
       "((78.0, 14.0), (106.0, 80.0))"
      ]
     },
     "execution_count": 40,
     "metadata": {},
     "output_type": "execute_result"
    }
   ],
   "source": [
    "x1 = np.min(bbox['left'])\n",
    "y1 = np.min(bbox['top'])\n",
    "x2 = np.max( np.array(bbox['left']) + np.array(bbox['width']) )\n",
    "y2 = np.max( np.array(bbox['top']) + np.array(bbox['height']) )\n",
    "(x1, y1), (x2, y2)"
   ]
  },
  {
   "cell_type": "code",
   "execution_count": 38,
   "metadata": {
    "collapsed": false
   },
   "outputs": [
    {
     "data": {
      "text/plain": [
       "80.0"
      ]
     },
     "execution_count": 38,
     "metadata": {},
     "output_type": "execute_result"
    }
   ],
   "source": [
    "np.max( np.array(bbox['top']) + np.array(bbox['height']) )"
   ]
  },
  {
   "cell_type": "code",
   "execution_count": 30,
   "metadata": {
    "collapsed": false
   },
   "outputs": [
    {
     "name": "stdout",
     "output_type": "stream",
     "text": [
      "78 14 106 73\n"
     ]
    },
    {
     "data": {
      "image/png": "[encoded data removed]",
      "text/plain": [
       "<PIL.PngImagePlugin.PngImageFile image mode=RGB size=181x101 at 0x1120015F8>"
      ]
     },
     "execution_count": 30,
     "metadata": {},
     "output_type": "execute_result"
    }
   ],
   "source": [
    "index = 7154\n",
    "filename = reader.get_name(index)\n",
    "fullpath = os.path.join(\"./svhn/train\", filename)\n",
    "image = PIL.Image.open(fullpath)\n",
    "draw = PIL.ImageDraw.Draw(image)\n",
    "#(x0,y0, width, height), label = self.get_cliped_bbox(index)\n",
    "x0, y0, width, height = 78, 14, 28, 59\n",
    "print(x0, y0, x0+width, y0+height)\n",
    "draw.rectangle([x0, y0, x0 + width, y0 + height])\n",
    "image"
   ]
  },
  {
   "cell_type": "code",
   "execution_count": 15,
   "metadata": {
    "collapsed": false,
    "deletable": true,
    "editable": true
   },
   "outputs": [
    {
     "name": "stdout",
     "output_type": "stream",
     "text": [
      "785 is 72\n"
     ]
    },
    {
     "data": {
      "image/png": "[encoded data removed]",
      "text/plain": [
       "<PIL.Image.Image image mode=RGB size=32x32 at 0x10E295358>"
      ]
     },
     "execution_count": 15,
     "metadata": {},
     "output_type": "execute_result"
    }
   ],
   "source": [
    "rint = np.random.randint(10000)\n",
    "#rint = 4618\n",
    "img, label = reader.clip(rint)\n",
    "print(\"{} is {}\".format(rint, label))\n",
    "img"
   ]
  },
  {
   "cell_type": "code",
   "execution_count": 121,
   "metadata": {
    "collapsed": true,
    "deletable": true,
    "editable": true
   },
   "outputs": [],
   "source": [
    "! mkdir ./svhn/train_preprocessed/"
   ]
  },
  {
   "cell_type": "code",
   "execution_count": 16,
   "metadata": {
    "collapsed": false,
    "deletable": true,
    "editable": true
   },
   "outputs": [
    {
     "name": "stderr",
     "output_type": "stream",
     "text": [
      "Using TensorFlow backend.\n"
     ]
    }
   ],
   "source": [
    "from keras.preprocessing.image import img_to_array, array_to_img"
   ]
  },
  {
   "cell_type": "code",
   "execution_count": 17,
   "metadata": {
    "collapsed": false,
    "deletable": true,
    "editable": true
   },
   "outputs": [
    {
     "name": "stdout",
     "output_type": "stream",
     "text": [
      ".............."
     ]
    }
   ],
   "source": [
    "# preprocess image\n",
    "labels = []\n",
    "x = []\n",
    "for i, filepath in enumerate(glob(\"./svhn/test/*.png\")):\n",
    "    img, label = reader.clip(i)\n",
    "    labels.append(label)\n",
    "    x.append(img_to_array(img))\n",
    "    #filename = os.path.basename(filepath)\n",
    "    #img.save(\"./svhn/train_preprocessed/{}\".format(filename))\n",
    "    if i % 1000 == 0:\n",
    "        print(\".\", end=\"\")\n",
    "\n",
    "#y = np.array(labels)\n",
    "np.save(\"./svhn/test_preprocessed_labels.npy\", labels)\n",
    "np.save(\"./svhn/test_preprocessed_img.npy\", x)"
   ]
  },
  {
   "cell_type": "code",
   "execution_count": 218,
   "metadata": {
    "collapsed": true,
    "deletable": true,
    "editable": true
   },
   "outputs": [],
   "source": [
    "np.save(\"./svhn/train_preprocessed_labels.npy\", labels)\n",
    "np.save(\"./svhn/train_preprocessed_img.npy\", x)"
   ]
  },
  {
   "cell_type": "code",
   "execution_count": 220,
   "metadata": {
    "collapsed": false,
    "deletable": true,
    "editable": true
   },
   "outputs": [
    {
     "data": {
      "text/plain": [
       "(33402, 32, 32, 3)"
      ]
     },
     "execution_count": 220,
     "metadata": {},
     "output_type": "execute_result"
    }
   ],
   "source": [
    "x = np.load(\"./svhn/train_preprocessed_img.npy\")\n",
    "x.shape"
   ]
  },
  {
   "cell_type": "code",
   "execution_count": 224,
   "metadata": {
    "collapsed": false,
    "deletable": true,
    "editable": true
   },
   "outputs": [
    {
     "data": {
      "image/png": "[encoded data removed]",
      "text/plain": [
       "<PIL.Image.Image image mode=RGB size=32x32 at 0x131B25438>"
      ]
     },
     "execution_count": 224,
     "metadata": {},
     "output_type": "execute_result"
    }
   ],
   "source": [
    "array_to_img(x[6])"
   ]
  },
  {
   "cell_type": "code",
   "execution_count": null,
   "metadata": {
    "collapsed": true,
    "deletable": true,
    "editable": true
   },
   "outputs": [],
   "source": []
  }
 ],
 "metadata": {
  "kernelspec": {
   "display_name": "Python (tf)",
   "language": "python",
   "name": "tf"
  },
  "language_info": {
   "codemirror_mode": {
    "name": "ipython",
    "version": 3
   },
   "file_extension": ".py",
   "mimetype": "text/x-python",
   "name": "python",
   "nbconvert_exporter": "python",
   "pygments_lexer": "ipython3",
   "version": "3.5.3"
  }
 },
 "nbformat": 4,
 "nbformat_minor": 2
}
