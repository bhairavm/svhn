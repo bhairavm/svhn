{
 "cells": [
  {
   "cell_type": "code",
   "execution_count": 1,
   "metadata": {
    "collapsed": false,
    "deletable": true,
    "editable": true,
    "scrolled": true
   },
   "outputs": [
    {
     "name": "stderr",
     "output_type": "stream",
     "text": [
      "Using TensorFlow backend.\n"
     ]
    }
   ],
   "source": [
    "import numpy as np\n",
    "import os.path\n",
    "\n",
    "from keras.utils import to_categorical"
   ]
  },
  {
   "cell_type": "code",
   "execution_count": 2,
   "metadata": {
    "collapsed": false,
    "deletable": true,
    "editable": true
   },
   "outputs": [],
   "source": [
    "from keras.preprocessing.image import ImageDataGenerator\n",
    "#data_gen = ImageDataGenerator(samplewise_center=True, rescale=1./255)\n",
    "\n",
    "# from sklearn.model_selection import train_test_split"
   ]
  },
  {
   "cell_type": "code",
   "execution_count": 3,
   "metadata": {
    "collapsed": false,
    "deletable": true,
    "editable": true
   },
   "outputs": [],
   "source": [
    "DIR = \"./\"#\"/Users/skmohan/Workspace/python/jupyter-notebook/udacity-deeplearning/\"\n",
    "\n",
    "def load_npy(prefix):\n",
    "    xs = np.load( os.path.join(DIR, \"svhn\", \"{}_preprocessed_img.npy\".format(prefix)))\n",
    "    labels = np.load( os.path.join(DIR, \"svhn\", \"{}_preprocessed_labels.npy\".format(prefix)))\n",
    "    # RGB => Grayscale\n",
    "    xs = np.dot(xs, [0.299, 0.587, 0.114]).reshape(xs.shape[0], 32, 32, 1)  * 1./255 \n",
    "    # can this be done by generator?\n",
    "    xs -= xs.mean(axis=0)\n",
    "    # getting length only for now\n",
    "    digits_len = to_categorical( np.array(list(map(len, labels)) , dtype=np.int), num_classes=7 )\n",
    "    padded_labels = np.array(list(map(lambda x: list(\"{:0>6}\".format(x)), labels) ) ).astype(np.int)\n",
    "    digits = to_categorical(padded_labels).reshape(-1, 6, 10) # 6 digits, 10 classes\n",
    "    #padded_labels = list(map(lambda x: list(\"{:0>6}\".format(x))[-1], labels) ) \n",
    "    #last_digit = to_categorical( padded_labels,num_classes=10)\n",
    "    ys = [digits_len,] + [ digits[:, i, :] for i in range(6)]\n",
    "    return xs, ys\n",
    "    \n",
    "def load_data():\n",
    "    x_train, y_train = load_npy(\"train\")\n",
    "    x_test, y_test = load_npy(\"test\")\n",
    "    return x_train, y_train, x_test, y_test\n"
   ]
  },
  {
   "cell_type": "code",
   "execution_count": 4,
   "metadata": {
    "collapsed": true,
    "deletable": true,
    "editable": true
   },
   "outputs": [],
   "source": [
    "x_train, y_train, x_test, y_test = load_data()"
   ]
  },
  {
   "cell_type": "code",
   "execution_count": 5,
   "metadata": {
    "collapsed": false,
    "deletable": true,
    "editable": true
   },
   "outputs": [
    {
     "name": "stdout",
     "output_type": "stream",
     "text": [
      "3 [0, 0, 0, 1, 2, 8]\n"
     ]
    },
    {
     "data": {
      "image/png": "[encoded data removed]",
      "text/plain": [
       "<PIL.Image.Image image mode=L size=32x32 at 0x11739C6D8>"
      ]
     },
     "execution_count": 5,
     "metadata": {},
     "output_type": "execute_result"
    }
   ],
   "source": [
    "from keras.preprocessing.image import array_to_img\n",
    "print(np.argmax(y_train[0][8]), [np.argmax(y_train[i+1][8]) for i in range(6)])\n",
    "array_to_img(x_train[8])"
   ]
  },
  {
   "cell_type": "code",
   "execution_count": 6,
   "metadata": {
    "collapsed": false,
    "deletable": true,
    "editable": true
   },
   "outputs": [
    {
     "data": {
      "image/png": "[encoded data removed]",
      "text/plain": [
       "<PIL.Image.Image image mode=L size=32x32 at 0x117386BA8>"
      ]
     },
     "execution_count": 6,
     "metadata": {},
     "output_type": "execute_result"
    }
   ],
   "source": [
    "array_to_img(x_test[6424])"
   ]
  },
  {
   "cell_type": "code",
   "execution_count": 9,
   "metadata": {
    "collapsed": false,
    "deletable": true,
    "editable": true,
    "scrolled": false
   },
   "outputs": [],
   "source": [
    "from keras.models import Sequential\n",
    "from keras.layers import Conv2D, MaxPooling2D\n",
    "from keras.layers.normalization import BatchNormalization\n",
    "from keras.layers import Activation, Dropout, Flatten, Dense, Reshape, Input, Dot\n",
    "# X_single, y_single = load_npy(\"test_single\")\n",
    "from keras.regularizers import l2\n",
    "\n",
    "regularizer = l2()\n",
    "img_input = Input(shape=(32,32,1))\n",
    "\n",
    "cnn = Sequential()\n",
    "cnn.add(Conv2D(16, (5, 5), padding=\"same\", input_shape=(32, 32, 1), kernel_regularizer=regularizer))\n",
    "cnn.add(Activation('relu'))\n",
    "cnn.add(BatchNormalization())\n",
    "cnn.add(MaxPooling2D(pool_size=(2, 2)))\n",
    "#cnn.add(Dropout(0.5))\n",
    "\n",
    "cnn.add(Conv2D(32, (5, 5),  padding=\"same\", kernel_regularizer=regularizer))\n",
    "cnn.add(Activation('relu'))\n",
    "cnn.add(BatchNormalization())\n",
    "cnn.add(MaxPooling2D(pool_size=(2, 2)))\n",
    "#cnn.add(Dropout(0.5))\n",
    "\n",
    "cnn.add(Conv2D(64, (5, 5), padding=\"same\", kernel_regularizer=regularizer))\n",
    "cnn.add(Activation('relu'))\n",
    "cnn.add(BatchNormalization())\n",
    "cnn.add(MaxPooling2D(pool_size=(2, 2)))\n",
    "cnn.add(Dropout(0.5))\n",
    "\n",
    "cnn = cnn(img_input)\n",
    "flat = Flatten()(cnn)\n",
    "\n",
    "size = Dense(1024, kernel_regularizer=regularizer)(flat)\n",
    "size = Activation('relu') (size)\n",
    "size = Dropout(0.5) (size)\n",
    "size = Dense(7, kernel_regularizer=regularizer)(size)\n",
    "size_output = Activation('softmax', name=\"Length_Smax\")(size)\n",
    "\n",
    "size_input = Input(shape=(7,))\n",
    "\n",
    "digit_inputs = []\n",
    "digit_outputs = []\n",
    "digits_merged = []\n",
    "\n",
    "# FIXME use RNN\n",
    "for i in range(6):\n",
    "    digit_output = Dense(10, kernel_regularizer=regularizer)(flat)\n",
    "    digit_output = Activation('softmax', name=\"Digit_Last_Smax_{}\".format(i))(digit_output)\n",
    "    digit_input = Input(shape=(10,))\n",
    "    \n",
    "    digit_inputs.append(digit_input)\n",
    "    digit_outputs.append(digit_output)\n"
   ]
  },
  {
   "cell_type": "code",
   "execution_count": 145,
   "metadata": {
    "collapsed": false,
    "deletable": true,
    "editable": true,
    "scrolled": true
   },
   "outputs": [
    {
     "data": {
      "text/plain": [
       "array([[ 0.01763561]])"
      ]
     },
     "execution_count": 145,
     "metadata": {},
     "output_type": "execute_result"
    }
   ],
   "source": [
    "# sample = 12942\n",
    "# y_pred[0][sample][1] *  y_pred[6][sample][9]\n",
    "\n",
    "# import tensorflow as tf\n",
    "\n",
    "# inputs = [ y_pred[i][sample:sample+1] for i in range(7) ] + [y_test[i][sample: sample+1] for i in range(7) ]\n",
    "# input_tensor = [ tf.convert_to_tensor(i, tf.float64) for i in inputs ]\n",
    "\n",
    "# with tf.Session() as sess:\n",
    "#     K.set_session(sess)\n",
    "#     prob = sequence_probability(input_tensor)\n",
    "#     res = sess.run(prob)\n",
    "\n",
    "# res"
   ]
  },
  {
   "cell_type": "code",
   "execution_count": 116,
   "metadata": {
    "collapsed": true,
    "deletable": true,
    "editable": true
   },
   "outputs": [],
   "source": [
    "from keras import backend as K\n",
    "\n",
    "def sequence_probability(inputs):\n",
    "    #y_pred, y_true = inputs\n",
    "    len_pred, *digits_pred = inputs[:7]\n",
    "    len_true, *digits_true = inputs[7:]\n",
    "\n",
    "    n_digits = 6\n",
    "    \n",
    "    pS = K.ones_like( len_true[:, 0] )\n",
    "    b = K.zeros_like( len_true[:, 0] )\n",
    "    ones = K.ones_like( len_true[:, 0])\n",
    "    \n",
    "    for i in range(n_digits):\n",
    "        b += len_true[:, - (i+1)]\n",
    "        ps = K.sum(digits_true[i] * digits_pred[i], axis=1)\n",
    "        pS = pS * ( ones - b + ps * b )\n",
    "    ps = K.sum( len_pred * len_true, axis=1)\n",
    "    pS = pS * ps\n",
    "    return K.reshape(pS, (-1,1))\n",
    "    # return pS\n"
   ]
  },
  {
   "cell_type": "code",
   "execution_count": 11,
   "metadata": {
    "collapsed": false,
    "deletable": true,
    "editable": true,
    "scrolled": false
   },
   "outputs": [
    {
     "name": "stderr",
     "output_type": "stream",
     "text": [
      "/Users/skmohan/anaconda/lib/python3.5/site-packages/ipykernel/__main__.py:6: UserWarning: The `merge` function is deprecated and will be removed after 08/2017. Use instead layers from `keras.layers.merge`, e.g. `add`, `concatenate`, etc.\n",
      "/Users/skmohan/.virtualenv/tensorflow/lib/python3.5/site-packages/keras/legacy/layers.py:456: UserWarning: The `Merge` layer is deprecated and will be removed after 08/2017. Use instead layers from `keras.layers.merge`, e.g. `add`, `concatenate`, etc.\n",
      "  name=name)\n"
     ]
    }
   ],
   "source": [
    "from keras.layers import merge\n",
    "\n",
    "y_pred = [size_output,] + digit_outputs\n",
    "y_true = [size_input,] + digit_inputs\n",
    "\n",
    "prob_output = merge(y_pred + y_true, mode=sequence_probability, output_shape=(1,), name=\"Last\")\n",
    "#prob_output = Reshape((1,))(prob_output)"
   ]
  },
  {
   "cell_type": "code",
   "execution_count": 12,
   "metadata": {
    "collapsed": false,
    "deletable": true,
    "editable": true
   },
   "outputs": [],
   "source": [
    "from keras.optimizers import Adam\n",
    "\n",
    "adam = Adam(decay=0.05)"
   ]
  },
  {
   "cell_type": "code",
   "execution_count": 13,
   "metadata": {
    "collapsed": false,
    "deletable": true,
    "editable": true
   },
   "outputs": [
    {
     "name": "stdout",
     "output_type": "stream",
     "text": [
      "____________________________________________________________________________________________________\n",
      "Layer (type)                     Output Shape          Param #     Connected to                     \n",
      "====================================================================================================\n",
      "input_1 (InputLayer)             (None, 32, 32, 1)     0                                            \n",
      "____________________________________________________________________________________________________\n",
      "sequential_1 (Sequential)        (None, 4, 4, 64)      64960                                        \n",
      "____________________________________________________________________________________________________\n",
      "flatten_1 (Flatten)              (None, 1024)          0                                            \n",
      "____________________________________________________________________________________________________\n",
      "dense_1 (Dense)                  (None, 1024)          1049600                                      \n",
      "____________________________________________________________________________________________________\n",
      "activation_4 (Activation)        (None, 1024)          0                                            \n",
      "____________________________________________________________________________________________________\n",
      "dropout_2 (Dropout)              (None, 1024)          0                                            \n",
      "____________________________________________________________________________________________________\n",
      "dense_2 (Dense)                  (None, 7)             7175                                         \n",
      "____________________________________________________________________________________________________\n",
      "dense_3 (Dense)                  (None, 10)            10250                                        \n",
      "____________________________________________________________________________________________________\n",
      "dense_4 (Dense)                  (None, 10)            10250                                        \n",
      "____________________________________________________________________________________________________\n",
      "dense_5 (Dense)                  (None, 10)            10250                                        \n",
      "____________________________________________________________________________________________________\n",
      "dense_6 (Dense)                  (None, 10)            10250                                        \n",
      "____________________________________________________________________________________________________\n",
      "dense_7 (Dense)                  (None, 10)            10250                                        \n",
      "____________________________________________________________________________________________________\n",
      "dense_8 (Dense)                  (None, 10)            10250                                        \n",
      "____________________________________________________________________________________________________\n",
      "Length_Smax (Activation)         (None, 7)             0                                            \n",
      "____________________________________________________________________________________________________\n",
      "Digit_Last_Smax_0 (Activation)   (None, 10)            0                                            \n",
      "____________________________________________________________________________________________________\n",
      "Digit_Last_Smax_1 (Activation)   (None, 10)            0                                            \n",
      "____________________________________________________________________________________________________\n",
      "Digit_Last_Smax_2 (Activation)   (None, 10)            0                                            \n",
      "____________________________________________________________________________________________________\n",
      "Digit_Last_Smax_3 (Activation)   (None, 10)            0                                            \n",
      "____________________________________________________________________________________________________\n",
      "Digit_Last_Smax_4 (Activation)   (None, 10)            0                                            \n",
      "____________________________________________________________________________________________________\n",
      "Digit_Last_Smax_5 (Activation)   (None, 10)            0                                            \n",
      "____________________________________________________________________________________________________\n",
      "input_2 (InputLayer)             (None, 7)             0                                            \n",
      "____________________________________________________________________________________________________\n",
      "input_3 (InputLayer)             (None, 10)            0                                            \n",
      "____________________________________________________________________________________________________\n",
      "input_4 (InputLayer)             (None, 10)            0                                            \n",
      "____________________________________________________________________________________________________\n",
      "input_5 (InputLayer)             (None, 10)            0                                            \n",
      "____________________________________________________________________________________________________\n",
      "input_6 (InputLayer)             (None, 10)            0                                            \n",
      "____________________________________________________________________________________________________\n",
      "input_7 (InputLayer)             (None, 10)            0                                            \n",
      "____________________________________________________________________________________________________\n",
      "input_8 (InputLayer)             (None, 10)            0                                            \n",
      "____________________________________________________________________________________________________\n",
      "Last (Merge)                     (None, 1)             0                                            \n",
      "====================================================================================================\n",
      "Total params: 1,183,235.0\n",
      "Trainable params: 1,183,011.0\n",
      "Non-trainable params: 224.0\n",
      "____________________________________________________________________________________________________\n"
     ]
    }
   ],
   "source": [
    "from keras.models import Model\n",
    "\n",
    "# use this for training\n",
    "model = Model(inputs=[img_input, size_input] + digit_inputs, outputs=prob_output)\n",
    "\n",
    "# use this to predict\n",
    "estimator = Model(inputs=[img_input], outputs=[size_output,] + digit_outputs)\n",
    "\n",
    "model.compile(loss=\"binary_crossentropy\",\n",
    "              optimizer=adam,\n",
    "              metrics=['accuracy'])\n",
    "\n",
    "model.summary()"
   ]
  },
  {
   "cell_type": "code",
   "execution_count": 35,
   "metadata": {
    "collapsed": true,
    "deletable": true,
    "editable": true
   },
   "outputs": [],
   "source": [
    "# use this to predict\n",
    "estimator = Model(inputs=[img_input], outputs=[size_output,] + digit_outputs)\n"
   ]
  },
  {
   "cell_type": "code",
   "execution_count": 14,
   "metadata": {
    "collapsed": true,
    "deletable": true,
    "editable": true
   },
   "outputs": [],
   "source": [
    "from keras.callbacks import TensorBoard, EarlyStopping, ModelCheckpoint\n",
    "\n",
    "callbacks = [TensorBoard(log_dir='./logs/logs-20170820-1/'),\n",
    "             EarlyStopping(patience=5),\n",
    "             ModelCheckpoint(\"./best_model_20170820.h5\", save_best_only=True)]"
   ]
  },
  {
   "cell_type": "code",
   "execution_count": null,
   "metadata": {
    "collapsed": true,
    "deletable": true,
    "editable": true
   },
   "outputs": [],
   "source": [
    "model.fit([ x_train, ] + y_train, np.ones(x_train.shape[0]),\n",
    "          validation_split=0.2, \n",
    "          epochs=100,\n",
    "          initial_epoch=50,\n",
    "          callbacks=callbacks)"
   ]
  },
  {
   "cell_type": "code",
   "execution_count": 25,
   "metadata": {
    "collapsed": false,
    "deletable": true,
    "editable": true
   },
   "outputs": [
    {
     "name": "stdout",
     "output_type": "stream",
     "text": [
      "hello.\n"
     ]
    }
   ],
   "source": [
    "print(\"hello.\")"
   ]
  },
  {
   "cell_type": "code",
   "execution_count": 17,
   "metadata": {
    "collapsed": false,
    "deletable": true,
    "editable": true
   },
   "outputs": [],
   "source": [
    "def digit_loss(y_true, y_pred):\n",
    "    loss = np.ones(y_true[0].shape[0])\n",
    "    for digit_pred, digit_true in zip(y_pred, y_true):\n",
    "        loss  = loss *  (digit_pred * digit_true).sum(axis=1)   \n",
    "    return loss\n",
    "\n",
    "def accuracy_single(y_true, y_pred):\n",
    "    total_digits = 0\n",
    "    correct_digits = 0\n",
    "    for i in range(1,6):\n",
    "        samples = np.argmax(y_true[0], axis=1) == i\n",
    "        size = y_true[0][samples].shape[0]\n",
    "        total_digits += size * i\n",
    "        for j in range(6-i, 6):\n",
    "            digit_true = np.argmax(y_true[j+1][samples], axis=1)\n",
    "            digit_pred = np.argmax(y_pred[j+1][samples], axis=1)\n",
    "            correct_digits += (digit_true == digit_pred).sum()\n",
    "    #print(\"Digit Accuracy: {} / {} ({:.2%})\".format(correct_digits, total_digits, correct_digits/total_digits))\n",
    "    return correct_digits, total_digits\n",
    "\n",
    "def accuracy_multi(y_true, y_pred):\n",
    "    n = y_true[0].shape[0]\n",
    "    seq_len = np.argmax(y_pred[0], axis=1) #[samples]\n",
    "\n",
    "    seq_pred = np.sum( [ (seq_len > 6 - i)\n",
    "                            * np.argmax(y_pred[i], axis=1) \n",
    "                            * 10**(6-i) for i in range(1,7) ], \n",
    "                axis=0)\n",
    "    seq_true = np.sum([ np.argmax(y_true[i], axis=1) * 10**(6-i) for i in range(1,7)], axis=0)\n",
    "    return (seq_pred == seq_true).sum(), n\n",
    "\n",
    "def performance(y_true, y_pred):\n",
    "    loss = digit_loss( y_true[1:], y_pred[1:] )\n",
    "    print(\"Loss : {}\".format( np.product(loss))) # XXX Not sure what this means\n",
    "    correct_digits, total_digits = accuracy_single(y_true, y_pred)\n",
    "    print(\"Accuracy (single): {:.2%} ({}/{})\".format(correct_digits/total_digits, correct_digits, total_digits))\n",
    "    correct_seq, total_seq = accuracy_multi(y_true, y_pred)\n",
    "    print(\"Accuracy (seq): {:.2%} ({}/{})\".format(correct_seq/total_seq, correct_seq, total_seq))"
   ]
  },
  {
   "cell_type": "code",
   "execution_count": 64,
   "metadata": {
    "collapsed": false,
    "deletable": true,
    "editable": true
   },
   "outputs": [
    {
     "name": "stdout",
     "output_type": "stream",
     "text": [
      "Loss : 0.8448608967406024\n",
      "Accuracy (single): 88.52% (64840/73251)\n",
      "Accuracy (seq): 86.12% (28767/33402)\n"
     ]
    }
   ],
   "source": [
    "y_pred = estimator.predict(x_train)\n",
    "performance(y_train, y_pred)"
   ]
  },
  {
   "cell_type": "code",
   "execution_count": 25,
   "metadata": {
    "collapsed": false,
    "deletable": true,
    "editable": true
   },
   "outputs": [
    {
     "name": "stdout",
     "output_type": "stream",
     "text": [
      "Loss : 0.5676108946827677\n",
      "Accuracy (single): 73.88% (19232/26032)\n",
      "Accuracy (seq): 60.15% (7861/13068)\n"
     ]
    }
   ],
   "source": [
    "y_pred = estimator.predict(x_test)\n",
    "performance(y_test, y_pred)"
   ]
  },
  {
   "cell_type": "code",
   "execution_count": 67,
   "metadata": {
    "collapsed": false,
    "deletable": true,
    "editable": true
   },
   "outputs": [
    {
     "name": "stdout",
     "output_type": "stream",
     "text": [
      "Loss : 0.0\n",
      "Accuracy (single): 76.82% (19997/26032)\n",
      "Accuracy (seq): 64.22% (8392/13068)\n"
     ]
    }
   ],
   "source": [
    "y_pred = estimator.predict(x_test)\n",
    "performance(y_test, y_pred)"
   ]
  },
  {
   "cell_type": "code",
   "execution_count": 84,
   "metadata": {
    "collapsed": false,
    "deletable": true,
    "editable": true
   },
   "outputs": [
    {
     "name": "stdout",
     "output_type": "stream",
     "text": [
      "Loss : 0.0\n",
      "Accuracy (single): 45.02% (11719/26032)\n",
      "Accuracy (seq): 15.36% (2007/13068)\n"
     ]
    }
   ],
   "source": [
    "y_pred = estimator.predict(x_test)\n",
    "performance(y_test, y_pred)"
   ]
  },
  {
   "cell_type": "code",
   "execution_count": 38,
   "metadata": {
    "collapsed": false,
    "deletable": true,
    "editable": true
   },
   "outputs": [
    {
     "name": "stdout",
     "output_type": "stream",
     "text": [
      "Loss : 0.0\n",
      "Accuracy (single): 32.49% (8459/26032)\n",
      "Accuracy (seq): 10.09% (1318/13068)\n"
     ]
    }
   ],
   "source": [
    "y_pred = estimator.predict(x_test)\n",
    "performance(y_test, y_pred)"
   ]
  },
  {
   "cell_type": "code",
   "execution_count": 22,
   "metadata": {
    "collapsed": false,
    "deletable": true,
    "editable": true
   },
   "outputs": [],
   "source": [
    "#samples = [ 3373, 2260, 3371, 7716, 6664, 10507, 8507] \n",
    "from IPython.display import display\n",
    "from keras.preprocessing.image import array_to_img\n",
    "\n",
    "def review(X_true, y_true, nsamples=5, samples=None):\n",
    "    if samples is  None:\n",
    "        samples = np.random.choice(X_true.shape[0], nsamples)\n",
    "\n",
    "    print(\"Samples: \", samples)\n",
    "    y_pred = estimator.predict(X_true[samples])\n",
    "    y_true_ = [ y_true[i][samples] for i in range(7) ]\n",
    "\n",
    "    performance( y_true_, y_pred)\n",
    "\n",
    "    for s,sample in enumerate(samples):\n",
    "        size_pred = np.argmax( y_pred[0][s] )\n",
    "        num_pred = \"\".join(map(str, [np.argmax(y_pred[i+1][s]) for i in range(6 - size_pred, 6)] ))\n",
    "\n",
    "        size_true = np.argmax( y_true[0][sample] )\n",
    "        num_true = \"\".join(map(str, [np.argmax(y_true_[i+1][s]) for i in range(6 - size_true, 6)] ))\n",
    "        probability = np.product( [ (y_pred[i+1][s] * y_true[i+1][s]).sum() for i in range(6-size_true, 6) ] )\n",
    "        \n",
    "        print( \"Predicted {:>6} ({}) {}\".format(num_pred, size_pred, \"✓\" if num_pred == num_true else \"✗\"))\n",
    "        print( \"Actual    {:>6} ({})\".format(num_true, size_true))\n",
    "        print( \"Probability: {}\".format(probability))\n",
    "        # print( num_pred == num_true )\n",
    "        display(array_to_img(X_true[sample]))\n"
   ]
  },
  {
   "cell_type": "code",
   "execution_count": 87,
   "metadata": {
    "collapsed": false,
    "deletable": true,
    "editable": true
   },
   "outputs": [
    {
     "name": "stdout",
     "output_type": "stream",
     "text": [
      "Samples:  [ 7386 12942  9240  9134 11244  7677 13046 11032  6436  6424]\n",
      "Loss : 3.221216991148394e-94\n",
      "Accuracy (single): 50.00% (10/20)\n",
      "Accuracy (seq): 10.00% (1/10)\n",
      "Predicted     15 (2) ✓\n",
      "Actual        15 (2)\n",
      "Probability: 2.189876170855609e-13\n"
     ]
    },
    {
     "data": {
      "image/png": "[encoded data removed]",
      "text/plain": [
       "<PIL.Image.Image image mode=L size=32x32 at 0x1266B5160>"
      ]
     },
     "metadata": {},
     "output_type": "display_data"
    },
    {
     "name": "stdout",
     "output_type": "stream",
     "text": [
      "Predicted      1 (1) ✗\n",
      "Actual         9 (1)\n",
      "Probability: 1.9800762927769425e-15\n"
     ]
    },
    {
     "data": {
      "image/png": "[encoded data removed]",
      "text/plain": [
       "<PIL.Image.Image image mode=L size=32x32 at 0x1266B5518>"
      ]
     },
     "metadata": {},
     "output_type": "display_data"
    },
    {
     "name": "stdout",
     "output_type": "stream",
     "text": [
      "Predicted     42 (2) ✗\n",
      "Actual        22 (2)\n",
      "Probability: 7.762314412793616e-14\n"
     ]
    },
    {
     "data": {
      "image/png": "[encoded data removed]",
      "text/plain": [
       "<PIL.Image.Image image mode=L size=32x32 at 0x1266B5160>"
      ]
     },
     "metadata": {},
     "output_type": "display_data"
    },
    {
     "name": "stdout",
     "output_type": "stream",
     "text": [
      "Predicted     42 (2) ✗\n",
      "Actual        37 (2)\n",
      "Probability: 1.2250832064866286e-09\n"
     ]
    },
    {
     "data": {
      "image/png": "[encoded data removed]",
      "text/plain": [
       "<PIL.Image.Image image mode=L size=32x32 at 0x1266B5240>"
      ]
     },
     "metadata": {},
     "output_type": "display_data"
    },
    {
     "name": "stdout",
     "output_type": "stream",
     "text": [
      "Predicted     42 (2) ✗\n",
      "Actual        44 (2)\n",
      "Probability: 5.879583639077354e-13\n"
     ]
    },
    {
     "data": {
      "image/png": "[encoded data removed]",
      "text/plain": [
       "<PIL.Image.Image image mode=L size=32x32 at 0x1266B54E0>"
      ]
     },
     "metadata": {},
     "output_type": "display_data"
    },
    {
     "name": "stdout",
     "output_type": "stream",
     "text": [
      "Predicted     12 (2) ✗\n",
      "Actual        22 (2)\n",
      "Probability: 2.749313604844581e-12\n"
     ]
    },
    {
     "data": {
      "image/png": "[encoded data removed]",
      "text/plain": [
       "<PIL.Image.Image image mode=L size=32x32 at 0x1266B5278>"
      ]
     },
     "metadata": {},
     "output_type": "display_data"
    },
    {
     "name": "stdout",
     "output_type": "stream",
     "text": [
      "Predicted     16 (2) ✗\n",
      "Actual        26 (2)\n",
      "Probability: 1.048051029296277e-10\n"
     ]
    },
    {
     "data": {
      "image/png": "[encoded data removed]",
      "text/plain": [
       "<PIL.Image.Image image mode=L size=32x32 at 0x1266B5240>"
      ]
     },
     "metadata": {},
     "output_type": "display_data"
    },
    {
     "name": "stdout",
     "output_type": "stream",
     "text": [
      "Predicted     55 (2) ✗\n",
      "Actual        15 (2)\n",
      "Probability: 1.3481890797865883e-08\n"
     ]
    },
    {
     "data": {
      "image/png": "[encoded data removed]",
      "text/plain": [
       "<PIL.Image.Image image mode=L size=32x32 at 0x1266B54A8>"
      ]
     },
     "metadata": {},
     "output_type": "display_data"
    },
    {
     "name": "stdout",
     "output_type": "stream",
     "text": [
      "Predicted     07 (2) ✗\n",
      "Actual        27 (2)\n",
      "Probability: 4.803431355273791e-25\n"
     ]
    },
    {
     "data": {
      "image/png": "[encoded data removed]",
      "text/plain": [
       "<PIL.Image.Image image mode=L size=32x32 at 0x1266B5518>"
      ]
     },
     "metadata": {},
     "output_type": "display_data"
    },
    {
     "name": "stdout",
     "output_type": "stream",
     "text": [
      "Predicted    409 (3) ✗\n",
      "Actual       499 (3)\n",
      "Probability: 7.90848558574925e-09\n"
     ]
    },
    {
     "data": {
      "image/png": "[encoded data removed]",
      "text/plain": [
       "<PIL.Image.Image image mode=L size=32x32 at 0x1266B55F8>"
      ]
     },
     "metadata": {},
     "output_type": "display_data"
    }
   ],
   "source": [
    "review(x_test, y_test, 10)"
   ]
  },
  {
   "cell_type": "code",
   "execution_count": 23,
   "metadata": {
    "collapsed": false,
    "deletable": true,
    "editable": true
   },
   "outputs": [
    {
     "name": "stdout",
     "output_type": "stream",
     "text": [
      "Samples:  [7386, 12942, 9240, 9134, 11244, 7677, 13046, 11032, 6436, 6424]\n",
      "Loss : 2.6879101656430493e-58\n",
      "Accuracy (single): 50.00% (10/20)\n",
      "Accuracy (seq): 40.00% (4/10)\n",
      "Predicted     19 (2) ✗\n",
      "Actual        15 (2)\n",
      "Probability: 0.00027003899812769183\n"
     ]
    },
    {
     "data": {
      "image/png": "[encoded data removed]",
      "text/plain": [
       "<PIL.Image.Image image mode=L size=32x32 at 0x11B96FB70>"
      ]
     },
     "metadata": {},
     "output_type": "display_data"
    },
    {
     "name": "stdout",
     "output_type": "stream",
     "text": [
      "Predicted      2 (1) ✗\n",
      "Actual         9 (1)\n",
      "Probability: 0.014924266375601292\n"
     ]
    },
    {
     "data": {
      "image/png": "[encoded data removed]",
      "text/plain": [
       "<PIL.Image.Image image mode=L size=32x32 at 0x11B96F470>"
      ]
     },
     "metadata": {},
     "output_type": "display_data"
    },
    {
     "name": "stdout",
     "output_type": "stream",
     "text": [
      "Predicted     42 (2) ✗\n",
      "Actual        22 (2)\n",
      "Probability: 0.00012061973990799141\n"
     ]
    },
    {
     "data": {
      "image/png": "[encoded data removed]",
      "text/plain": [
       "<PIL.Image.Image image mode=L size=32x32 at 0x11B96FBE0>"
      ]
     },
     "metadata": {},
     "output_type": "display_data"
    },
    {
     "name": "stdout",
     "output_type": "stream",
     "text": [
      "Predicted     42 (2) ✗\n",
      "Actual        37 (2)\n",
      "Probability: 0.002854333748881943\n"
     ]
    },
    {
     "data": {
      "image/png": "[encoded data removed]",
      "text/plain": [
       "<PIL.Image.Image image mode=L size=32x32 at 0x11B96FA90>"
      ]
     },
     "metadata": {},
     "output_type": "display_data"
    },
    {
     "name": "stdout",
     "output_type": "stream",
     "text": [
      "Predicted     44 (2) ✓\n",
      "Actual        44 (2)\n",
      "Probability: 0.0005427197747386939\n"
     ]
    },
    {
     "data": {
      "image/png": "[encoded data removed]",
      "text/plain": [
       "<PIL.Image.Image image mode=L size=32x32 at 0x11B96FA58>"
      ]
     },
     "metadata": {},
     "output_type": "display_data"
    },
    {
     "name": "stdout",
     "output_type": "stream",
     "text": [
      "Predicted     22 (2) ✓\n",
      "Actual        22 (2)\n",
      "Probability: 0.0011486802579172006\n"
     ]
    },
    {
     "data": {
      "image/png": "[encoded data removed]",
      "text/plain": [
       "<PIL.Image.Image image mode=L size=32x32 at 0x11B96FC18>"
      ]
     },
     "metadata": {},
     "output_type": "display_data"
    },
    {
     "name": "stdout",
     "output_type": "stream",
     "text": [
      "Predicted     14 (2) ✗\n",
      "Actual        26 (2)\n",
      "Probability: 0.007708418341071832\n"
     ]
    },
    {
     "data": {
      "image/png": "[encoded data removed]",
      "text/plain": [
       "<PIL.Image.Image image mode=L size=32x32 at 0x11B96FBA8>"
      ]
     },
     "metadata": {},
     "output_type": "display_data"
    },
    {
     "name": "stdout",
     "output_type": "stream",
     "text": [
      "Predicted     15 (2) ✓\n",
      "Actual        15 (2)\n",
      "Probability: 0.009562323842369214\n"
     ]
    },
    {
     "data": {
      "image/png": "[encoded data removed]",
      "text/plain": [
       "<PIL.Image.Image image mode=L size=32x32 at 0x11B96FA58>"
      ]
     },
     "metadata": {},
     "output_type": "display_data"
    },
    {
     "name": "stdout",
     "output_type": "stream",
     "text": [
      "Predicted     27 (2) ✓\n",
      "Actual        27 (2)\n",
      "Probability: 8.704687734809263e-06\n"
     ]
    },
    {
     "data": {
      "image/png": "[encoded data removed]",
      "text/plain": [
       "<PIL.Image.Image image mode=L size=32x32 at 0x11B96FC88>"
      ]
     },
     "metadata": {},
     "output_type": "display_data"
    },
    {
     "name": "stdout",
     "output_type": "stream",
     "text": [
      "Predicted    670 (3) ✗\n",
      "Actual       499 (3)\n",
      "Probability: 0.0012789368961051296\n"
     ]
    },
    {
     "data": {
      "image/png": "[encoded data removed]",
      "text/plain": [
       "<PIL.Image.Image image mode=L size=32x32 at 0x11C5AEC50>"
      ]
     },
     "metadata": {},
     "output_type": "display_data"
    }
   ],
   "source": [
    "review(x_test, y_test, samples=[ 7386, 12942,  9240,  9134, 11244, 7677, 13046, 11032,  6436,  6424])"
   ]
  },
  {
   "cell_type": "code",
   "execution_count": 36,
   "metadata": {
    "collapsed": false,
    "deletable": true,
    "editable": true
   },
   "outputs": [
    {
     "name": "stdout",
     "output_type": "stream",
     "text": [
      "Samples:  [7386, 12942, 9240, 9134, 11244, 7677, 13046, 11032, 6436, 6424]\n",
      "Loss : 4.948103993404499e-58\n",
      "Accuracy (single): 55.00% (11/20)\n",
      "Accuracy (seq): 50.00% (5/10)\n",
      "Predicted     15 (2) ✓\n",
      "Actual        15 (2)\n",
      "Probability: 0.00033899506180097745\n"
     ]
    },
    {
     "data": {
      "image/png": "[encoded data removed]",
      "text/plain": [
       "<PIL.Image.Image image mode=L size=32x32 at 0x11C5A78D0>"
      ]
     },
     "metadata": {},
     "output_type": "display_data"
    },
    {
     "name": "stdout",
     "output_type": "stream",
     "text": [
      "Predicted      1 (1) ✗\n",
      "Actual         9 (1)\n",
      "Probability: 0.017832688987255096\n"
     ]
    },
    {
     "data": {
      "image/png": "[encoded data removed]",
      "text/plain": [
       "<PIL.Image.Image image mode=L size=32x32 at 0x11C5A7B70>"
      ]
     },
     "metadata": {},
     "output_type": "display_data"
    },
    {
     "name": "stdout",
     "output_type": "stream",
     "text": [
      "Predicted     42 (2) ✗\n",
      "Actual        22 (2)\n",
      "Probability: 8.363393737973379e-05\n"
     ]
    },
    {
     "data": {
      "image/png": "[encoded data removed]",
      "text/plain": [
       "<PIL.Image.Image image mode=L size=32x32 at 0x11C5A7BA8>"
      ]
     },
     "metadata": {},
     "output_type": "display_data"
    },
    {
     "name": "stdout",
     "output_type": "stream",
     "text": [
      "Predicted     22 (2) ✗\n",
      "Actual        37 (2)\n",
      "Probability: 0.002733841522818692\n"
     ]
    },
    {
     "data": {
      "image/png": "[encoded data removed]",
      "text/plain": [
       "<PIL.Image.Image image mode=L size=32x32 at 0x11C5A7BA8>"
      ]
     },
     "metadata": {},
     "output_type": "display_data"
    },
    {
     "name": "stdout",
     "output_type": "stream",
     "text": [
      "Predicted     44 (2) ✓\n",
      "Actual        44 (2)\n",
      "Probability: 0.0003922893439228768\n"
     ]
    },
    {
     "data": {
      "image/png": "[encoded data removed]",
      "text/plain": [
       "<PIL.Image.Image image mode=L size=32x32 at 0x11C5A7BE0>"
      ]
     },
     "metadata": {},
     "output_type": "display_data"
    },
    {
     "name": "stdout",
     "output_type": "stream",
     "text": [
      "Predicted     22 (2) ✓\n",
      "Actual        22 (2)\n",
      "Probability: 0.0005144287047900709\n"
     ]
    },
    {
     "data": {
      "image/png": "[encoded data removed]",
      "text/plain": [
       "<PIL.Image.Image image mode=L size=32x32 at 0x11C5A7BE0>"
      ]
     },
     "metadata": {},
     "output_type": "display_data"
    },
    {
     "name": "stdout",
     "output_type": "stream",
     "text": [
      "Predicted     15 (2) ✗\n",
      "Actual        26 (2)\n",
      "Probability: 0.005797205582314363\n"
     ]
    },
    {
     "data": {
      "image/png": "[encoded data removed]",
      "text/plain": [
       "<PIL.Image.Image image mode=L size=32x32 at 0x11C5A7BA8>"
      ]
     },
     "metadata": {},
     "output_type": "display_data"
    },
    {
     "name": "stdout",
     "output_type": "stream",
     "text": [
      "Predicted     15 (2) ✓\n",
      "Actual        15 (2)\n",
      "Probability: 0.013683930656282595\n"
     ]
    },
    {
     "data": {
      "image/png": "[encoded data removed]",
      "text/plain": [
       "<PIL.Image.Image image mode=L size=32x32 at 0x11C5A7C18>"
      ]
     },
     "metadata": {},
     "output_type": "display_data"
    },
    {
     "name": "stdout",
     "output_type": "stream",
     "text": [
      "Predicted     27 (2) ✓\n",
      "Actual        27 (2)\n",
      "Probability: 1.6789302719735148e-06\n"
     ]
    },
    {
     "data": {
      "image/png": "[encoded data removed]",
      "text/plain": [
       "<PIL.Image.Image image mode=L size=32x32 at 0x11C5A79B0>"
      ]
     },
     "metadata": {},
     "output_type": "display_data"
    },
    {
     "name": "stdout",
     "output_type": "stream",
     "text": [
      "Predicted    670 (3) ✗\n",
      "Actual       499 (3)\n",
      "Probability: 0.0012187721975390271\n"
     ]
    },
    {
     "data": {
      "image/png": "[encoded data removed]",
      "text/plain": [
       "<PIL.Image.Image image mode=L size=32x32 at 0x11C5A78D0>"
      ]
     },
     "metadata": {},
     "output_type": "display_data"
    }
   ],
   "source": [
    "# After 100 Epoch.\n",
    "review(x_test, y_test, samples=[ 7386, 12942,  9240,  9134, 11244, 7677, 13046, 11032,  6436,  6424])"
   ]
  },
  {
   "cell_type": "code",
   "execution_count": 27,
   "metadata": {
    "collapsed": true,
    "deletable": true,
    "editable": true
   },
   "outputs": [],
   "source": [
    "estimator.save(\"./svhn/model_20170820.h5\")"
   ]
  },
  {
   "cell_type": "code",
   "execution_count": 41,
   "metadata": {
    "collapsed": false,
    "deletable": true,
    "editable": true
   },
   "outputs": [
    {
     "data": {
      "text/plain": [
       "(2, '000036')"
      ]
     },
     "execution_count": 41,
     "metadata": {},
     "output_type": "execute_result"
    }
   ],
   "source": [
    "size = np.argmax( y_pred[0][2] )\n",
    "num_pred = \"\".join(map(str, [np.argmax(y_pred[i+1][2]) for i in range(0, 6)] ))\n",
    "size, num_pred"
   ]
  },
  {
   "cell_type": "code",
   "execution_count": 37,
   "metadata": {
    "collapsed": false,
    "deletable": true,
    "editable": true
   },
   "outputs": [],
   "source": [
    "import pandas as pd"
   ]
  },
  {
   "cell_type": "code",
   "execution_count": 40,
   "metadata": {
    "collapsed": false,
    "deletable": true,
    "editable": true
   },
   "outputs": [
    {
     "data": {
      "text/html": [
       "<div>\n",
       "<table border=\"1\" class=\"dataframe\">\n",
       "  <thead>\n",
       "    <tr style=\"text-align: right;\">\n",
       "      <th></th>\n",
       "      <th>digit_1</th>\n",
       "      <th>digit_2</th>\n",
       "      <th>digit_3</th>\n",
       "      <th>digit_4</th>\n",
       "      <th>digit_5</th>\n",
       "      <th>digit_6</th>\n",
       "    </tr>\n",
       "  </thead>\n",
       "  <tbody>\n",
       "    <tr>\n",
       "      <th>0</th>\n",
       "      <td>1.000000e+00</td>\n",
       "      <td>1.000000e+00</td>\n",
       "      <td>1.000000e+00</td>\n",
       "      <td>1.000000e+00</td>\n",
       "      <td>2.789899e-20</td>\n",
       "      <td>1.649608e-13</td>\n",
       "    </tr>\n",
       "    <tr>\n",
       "      <th>1</th>\n",
       "      <td>0.000000e+00</td>\n",
       "      <td>4.785024e-37</td>\n",
       "      <td>3.266939e-37</td>\n",
       "      <td>1.227559e-31</td>\n",
       "      <td>3.950259e-10</td>\n",
       "      <td>8.727165e-25</td>\n",
       "    </tr>\n",
       "    <tr>\n",
       "      <th>2</th>\n",
       "      <td>5.151096e-38</td>\n",
       "      <td>4.241089e-38</td>\n",
       "      <td>2.364325e-38</td>\n",
       "      <td>5.452049e-30</td>\n",
       "      <td>1.029334e-13</td>\n",
       "      <td>7.493147e-20</td>\n",
       "    </tr>\n",
       "    <tr>\n",
       "      <th>3</th>\n",
       "      <td>0.000000e+00</td>\n",
       "      <td>0.000000e+00</td>\n",
       "      <td>2.160534e-37</td>\n",
       "      <td>5.836140e-28</td>\n",
       "      <td>9.999993e-01</td>\n",
       "      <td>9.911507e-15</td>\n",
       "    </tr>\n",
       "    <tr>\n",
       "      <th>4</th>\n",
       "      <td>9.529929e-36</td>\n",
       "      <td>0.000000e+00</td>\n",
       "      <td>0.000000e+00</td>\n",
       "      <td>0.000000e+00</td>\n",
       "      <td>2.440045e-15</td>\n",
       "      <td>2.488089e-12</td>\n",
       "    </tr>\n",
       "    <tr>\n",
       "      <th>5</th>\n",
       "      <td>0.000000e+00</td>\n",
       "      <td>0.000000e+00</td>\n",
       "      <td>4.258877e-37</td>\n",
       "      <td>6.991885e-33</td>\n",
       "      <td>4.485011e-12</td>\n",
       "      <td>2.379972e-05</td>\n",
       "    </tr>\n",
       "    <tr>\n",
       "      <th>6</th>\n",
       "      <td>0.000000e+00</td>\n",
       "      <td>0.000000e+00</td>\n",
       "      <td>0.000000e+00</td>\n",
       "      <td>3.829108e-31</td>\n",
       "      <td>2.618382e-10</td>\n",
       "      <td>9.999762e-01</td>\n",
       "    </tr>\n",
       "    <tr>\n",
       "      <th>7</th>\n",
       "      <td>0.000000e+00</td>\n",
       "      <td>3.958592e-38</td>\n",
       "      <td>0.000000e+00</td>\n",
       "      <td>0.000000e+00</td>\n",
       "      <td>2.421738e-17</td>\n",
       "      <td>9.985142e-20</td>\n",
       "    </tr>\n",
       "    <tr>\n",
       "      <th>8</th>\n",
       "      <td>0.000000e+00</td>\n",
       "      <td>0.000000e+00</td>\n",
       "      <td>0.000000e+00</td>\n",
       "      <td>1.198477e-25</td>\n",
       "      <td>4.880417e-08</td>\n",
       "      <td>2.710925e-09</td>\n",
       "    </tr>\n",
       "    <tr>\n",
       "      <th>9</th>\n",
       "      <td>6.165740e-37</td>\n",
       "      <td>0.000000e+00</td>\n",
       "      <td>1.253482e-38</td>\n",
       "      <td>1.030415e-35</td>\n",
       "      <td>6.810179e-07</td>\n",
       "      <td>5.593456e-10</td>\n",
       "    </tr>\n",
       "  </tbody>\n",
       "</table>\n",
       "</div>"
      ],
      "text/plain": [
       "        digit_1       digit_2       digit_3       digit_4       digit_5  \\\n",
       "0  1.000000e+00  1.000000e+00  1.000000e+00  1.000000e+00  2.789899e-20   \n",
       "1  0.000000e+00  4.785024e-37  3.266939e-37  1.227559e-31  3.950259e-10   \n",
       "2  5.151096e-38  4.241089e-38  2.364325e-38  5.452049e-30  1.029334e-13   \n",
       "3  0.000000e+00  0.000000e+00  2.160534e-37  5.836140e-28  9.999993e-01   \n",
       "4  9.529929e-36  0.000000e+00  0.000000e+00  0.000000e+00  2.440045e-15   \n",
       "5  0.000000e+00  0.000000e+00  4.258877e-37  6.991885e-33  4.485011e-12   \n",
       "6  0.000000e+00  0.000000e+00  0.000000e+00  3.829108e-31  2.618382e-10   \n",
       "7  0.000000e+00  3.958592e-38  0.000000e+00  0.000000e+00  2.421738e-17   \n",
       "8  0.000000e+00  0.000000e+00  0.000000e+00  1.198477e-25  4.880417e-08   \n",
       "9  6.165740e-37  0.000000e+00  1.253482e-38  1.030415e-35  6.810179e-07   \n",
       "\n",
       "        digit_6  \n",
       "0  1.649608e-13  \n",
       "1  8.727165e-25  \n",
       "2  7.493147e-20  \n",
       "3  9.911507e-15  \n",
       "4  2.488089e-12  \n",
       "5  2.379972e-05  \n",
       "6  9.999762e-01  \n",
       "7  9.985142e-20  \n",
       "8  2.710925e-09  \n",
       "9  5.593456e-10  "
      ]
     },
     "execution_count": 40,
     "metadata": {},
     "output_type": "execute_result"
    }
   ],
   "source": [
    "pd.DataFrame({\"digit_{}\".format(i): y_pred[i][2] for i in range(1, 7)})"
   ]
  },
  {
   "cell_type": "code",
   "execution_count": 42,
   "metadata": {
    "collapsed": false,
    "deletable": true,
    "editable": true
   },
   "outputs": [
    {
     "name": "stdout",
     "output_type": "stream",
     "text": [
      "===== ./svhn/model_20170807.h5 =====\n",
      "Loss : 0.24274114461189525\n",
      "Accuracy (single): 37.65% (9801/26032)\n",
      "Accuracy (seq): 27.25% (3561/13068)\n",
      "===== ./svhn/model_20170810.h5 =====\n"
     ]
    },
    {
     "name": "stderr",
     "output_type": "stream",
     "text": [
      "/Users/skmohan/.virtualenv/tensorflow/lib/python3.5/site-packages/keras/models.py:240: UserWarning: No training configuration found in save file: the model was *not* compiled. Compile it manually.\n",
      "  warnings.warn('No training configuration found in save file: '\n"
     ]
    },
    {
     "name": "stdout",
     "output_type": "stream",
     "text": [
      "Loss : 0.5220275308044474\n",
      "Accuracy (single): 71.12% (18513/26032)\n",
      "Accuracy (seq): 57.46% (7509/13068)\n"
     ]
    }
   ],
   "source": [
    "from keras.models import load_model\n",
    "\n",
    "registered_models = [\"./svhn/model_20170807.h5\", \"./svhn/model_20170810.h5\", \"./svhn/model_20170813.h5\"]\n",
    "\n",
    "for version in registered_models:\n",
    "    print(\"=\"*5 + \" \" + version + \" \" + \"=\"*5)\n",
    "    modelv = load_model(version)\n",
    "    y_pred_v = modelv.predict(x_test)\n",
    "    performance(y_test, y_pred_v)"
   ]
  },
  {
   "cell_type": "code",
   "execution_count": null,
   "metadata": {
    "collapsed": true,
    "deletable": true,
    "editable": true
   },
   "outputs": [],
   "source": []
  }
 ],
 "metadata": {
  "kernelspec": {
   "display_name": "Python (tf)",
   "language": "python",
   "name": "tf"
  },
  "language_info": {
   "codemirror_mode": {
    "name": "ipython",
    "version": 3
   },
   "file_extension": ".py",
   "mimetype": "text/x-python",
   "name": "python",
   "nbconvert_exporter": "python",
   "pygments_lexer": "ipython3",
   "version": "3.5.3"
  }
 },
 "nbformat": 4,
 "nbformat_minor": 2
}
